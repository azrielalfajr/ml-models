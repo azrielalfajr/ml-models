{
 "cells": [
  {
   "cell_type": "code",
   "execution_count": 1,
   "id": "c8313001-c0a7-4696-9293-9842869978b0",
   "metadata": {},
   "outputs": [],
   "source": [
    "import pandas as pd\n",
    "import numpy as np\n",
    "import matplotlib.pyplot as plt\n",
    "import seaborn as sns"
   ]
  },
  {
   "cell_type": "code",
   "execution_count": 2,
   "id": "1f2a7e42-888e-4e89-9bde-b835a5d91e25",
   "metadata": {},
   "outputs": [
    {
     "data": {
      "text/html": [
       "<div>\n",
       "<style scoped>\n",
       "    .dataframe tbody tr th:only-of-type {\n",
       "        vertical-align: middle;\n",
       "    }\n",
       "\n",
       "    .dataframe tbody tr th {\n",
       "        vertical-align: top;\n",
       "    }\n",
       "\n",
       "    .dataframe thead th {\n",
       "        text-align: right;\n",
       "    }\n",
       "</style>\n",
       "<table border=\"1\" class=\"dataframe\">\n",
       "  <thead>\n",
       "    <tr style=\"text-align: right;\">\n",
       "      <th></th>\n",
       "      <th>Station_1</th>\n",
       "      <th>Station_2</th>\n",
       "      <th>Station_3</th>\n",
       "      <th>Station_4</th>\n",
       "      <th>Station_5</th>\n",
       "      <th>Station_6</th>\n",
       "      <th>Station_7</th>\n",
       "      <th>Label</th>\n",
       "    </tr>\n",
       "  </thead>\n",
       "  <tbody>\n",
       "    <tr>\n",
       "      <th>0</th>\n",
       "      <td>0.749080</td>\n",
       "      <td>0.919993</td>\n",
       "      <td>114.945602</td>\n",
       "      <td>0.932442</td>\n",
       "      <td>13.727151</td>\n",
       "      <td>2.903895</td>\n",
       "      <td>0.908278</td>\n",
       "      <td>Good</td>\n",
       "    </tr>\n",
       "    <tr>\n",
       "      <th>1</th>\n",
       "      <td>1.901429</td>\n",
       "      <td>-1.261952</td>\n",
       "      <td>104.740889</td>\n",
       "      <td>2.048815</td>\n",
       "      <td>9.016888</td>\n",
       "      <td>2.634858</td>\n",
       "      <td>3.778081</td>\n",
       "      <td>Good</td>\n",
       "    </tr>\n",
       "    <tr>\n",
       "      <th>2</th>\n",
       "      <td>1.463988</td>\n",
       "      <td>-0.613441</td>\n",
       "      <td>106.317961</td>\n",
       "      <td>-1.294561</td>\n",
       "      <td>14.625247</td>\n",
       "      <td>1.755185</td>\n",
       "      <td>4.307704</td>\n",
       "      <td>Good</td>\n",
       "    </tr>\n",
       "    <tr>\n",
       "      <th>3</th>\n",
       "      <td>1.197317</td>\n",
       "      <td>0.653123</td>\n",
       "      <td>109.033556</td>\n",
       "      <td>-2.686570</td>\n",
       "      <td>13.902569</td>\n",
       "      <td>2.466063</td>\n",
       "      <td>3.553937</td>\n",
       "      <td>Good</td>\n",
       "    </tr>\n",
       "    <tr>\n",
       "      <th>4</th>\n",
       "      <td>0.312037</td>\n",
       "      <td>-0.071643</td>\n",
       "      <td>110.182667</td>\n",
       "      <td>-2.449227</td>\n",
       "      <td>14.431973</td>\n",
       "      <td>1.825483</td>\n",
       "      <td>3.623181</td>\n",
       "      <td>Good</td>\n",
       "    </tr>\n",
       "  </tbody>\n",
       "</table>\n",
       "</div>"
      ],
      "text/plain": [
       "   Station_1  Station_2   Station_3  Station_4  Station_5  Station_6  \\\n",
       "0   0.749080   0.919993  114.945602   0.932442  13.727151   2.903895   \n",
       "1   1.901429  -1.261952  104.740889   2.048815   9.016888   2.634858   \n",
       "2   1.463988  -0.613441  106.317961  -1.294561  14.625247   1.755185   \n",
       "3   1.197317   0.653123  109.033556  -2.686570  13.902569   2.466063   \n",
       "4   0.312037  -0.071643  110.182667  -2.449227  14.431973   1.825483   \n",
       "\n",
       "   Station_7 Label  \n",
       "0   0.908278  Good  \n",
       "1   3.778081  Good  \n",
       "2   4.307704  Good  \n",
       "3   3.553937  Good  \n",
       "4   3.623181  Good  "
      ]
     },
     "execution_count": 2,
     "metadata": {},
     "output_type": "execute_result"
    }
   ],
   "source": [
    "url = \"https://raw.githubusercontent.com/IngoNowitzky/LDA_Medium/main/production_line_data.csv\"\n",
    "\n",
    "# Read csv to DataFrame\n",
    "data = pd.read_csv(url)\n",
    "\n",
    "# Print first 5 lines\n",
    "data.head()"
   ]
  },
  {
   "cell_type": "code",
   "execution_count": 3,
   "id": "752eb3a0-8022-48fc-8493-56416f68d305",
   "metadata": {},
   "outputs": [
    {
     "name": "stdout",
     "output_type": "stream",
     "text": [
      "<class 'pandas.core.frame.DataFrame'>\n",
      "RangeIndex: 20000 entries, 0 to 19999\n",
      "Data columns (total 8 columns):\n",
      " #   Column     Non-Null Count  Dtype  \n",
      "---  ------     --------------  -----  \n",
      " 0   Station_1  20000 non-null  float64\n",
      " 1   Station_2  20000 non-null  float64\n",
      " 2   Station_3  20000 non-null  float64\n",
      " 3   Station_4  20000 non-null  float64\n",
      " 4   Station_5  20000 non-null  float64\n",
      " 5   Station_6  20000 non-null  float64\n",
      " 6   Station_7  20000 non-null  float64\n",
      " 7   Label      20000 non-null  object \n",
      "dtypes: float64(7), object(1)\n",
      "memory usage: 1.2+ MB\n"
     ]
    }
   ],
   "source": [
    "data.info()"
   ]
  }
 ],
 "metadata": {
  "kernelspec": {
   "display_name": "Python 3 (ipykernel)",
   "language": "python",
   "name": "python3"
  },
  "language_info": {
   "codemirror_mode": {
    "name": "ipython",
    "version": 3
   },
   "file_extension": ".py",
   "mimetype": "text/x-python",
   "name": "python",
   "nbconvert_exporter": "python",
   "pygments_lexer": "ipython3",
   "version": "3.12.4"
  }
 },
 "nbformat": 4,
 "nbformat_minor": 5
}
